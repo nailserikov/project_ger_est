{
 "cells": [
  {
   "cell_type": "markdown",
   "id": "9b5c0f3f-9bb1-42d1-beec-6bd6d2d7d46d",
   "metadata": {
    "jp-MarkdownHeadingCollapsed": true,
    "scrolled": true
   },
   "source": [
    "### Загрузка german_real_estate_data"
   ]
  },
  {
   "cell_type": "code",
   "execution_count": 2,
   "id": "48bc9472-b061-4de1-8bd7-77f376334998",
   "metadata": {},
   "outputs": [],
   "source": [
    "import pandas as pd"
   ]
  },
  {
   "cell_type": "code",
   "execution_count": 6,
   "id": "ac4acd46-bdb4-4c81-b23c-1ed5b5adec4d",
   "metadata": {},
   "outputs": [
    {
     "name": "stdout",
     "output_type": "stream",
     "text": [
      "<class 'pandas.core.frame.DataFrame'>\n",
      "RangeIndex: 25613 entries, 0 to 25612\n",
      "Data columns (total 10 columns):\n",
      " #   Column          Non-Null Count  Dtype \n",
      "---  ------          --------------  ----- \n",
      " 0   address         25613 non-null  object\n",
      " 1   property_id     25613 non-null  object\n",
      " 2   square_meters   25613 non-null  int64 \n",
      " 3   total_floors    25613 non-null  int64 \n",
      " 4   floor           25613 non-null  int64 \n",
      " 5   type            25613 non-null  object\n",
      " 6   price           25613 non-null  int64 \n",
      " 7   days_on_market  25613 non-null  int64 \n",
      " 8   rooms           25613 non-null  int64 \n",
      " 9   city            25613 non-null  object\n",
      "dtypes: int64(6), object(4)\n",
      "memory usage: 2.0+ MB\n"
     ]
    },
    {
     "data": {
      "text/html": [
       "<div>\n",
       "<style scoped>\n",
       "    .dataframe tbody tr th:only-of-type {\n",
       "        vertical-align: middle;\n",
       "    }\n",
       "\n",
       "    .dataframe tbody tr th {\n",
       "        vertical-align: top;\n",
       "    }\n",
       "\n",
       "    .dataframe thead th {\n",
       "        text-align: right;\n",
       "    }\n",
       "</style>\n",
       "<table border=\"1\" class=\"dataframe\">\n",
       "  <thead>\n",
       "    <tr style=\"text-align: right;\">\n",
       "      <th></th>\n",
       "      <th>address</th>\n",
       "      <th>property_id</th>\n",
       "      <th>square_meters</th>\n",
       "      <th>total_floors</th>\n",
       "      <th>floor</th>\n",
       "      <th>type</th>\n",
       "      <th>price</th>\n",
       "      <th>days_on_market</th>\n",
       "      <th>rooms</th>\n",
       "      <th>city</th>\n",
       "    </tr>\n",
       "  </thead>\n",
       "  <tbody>\n",
       "    <tr>\n",
       "      <th>0</th>\n",
       "      <td>250 High St, Berlin</td>\n",
       "      <td>ID012715</td>\n",
       "      <td>20</td>\n",
       "      <td>29</td>\n",
       "      <td>17</td>\n",
       "      <td>Residential</td>\n",
       "      <td>2966921</td>\n",
       "      <td>115</td>\n",
       "      <td>1</td>\n",
       "      <td>Berlin</td>\n",
       "    </tr>\n",
       "    <tr>\n",
       "      <th>1</th>\n",
       "      <td>225 High St, Berlin</td>\n",
       "      <td>ID017686</td>\n",
       "      <td>20</td>\n",
       "      <td>17</td>\n",
       "      <td>1</td>\n",
       "      <td>Residential</td>\n",
       "      <td>3259048</td>\n",
       "      <td>247</td>\n",
       "      <td>5</td>\n",
       "      <td>Berlin</td>\n",
       "    </tr>\n",
       "    <tr>\n",
       "      <th>2</th>\n",
       "      <td>29 High St, Berlin</td>\n",
       "      <td>ID015698</td>\n",
       "      <td>20</td>\n",
       "      <td>22</td>\n",
       "      <td>5</td>\n",
       "      <td>Commercial</td>\n",
       "      <td>7071926</td>\n",
       "      <td>167</td>\n",
       "      <td>5</td>\n",
       "      <td>Berlin</td>\n",
       "    </tr>\n",
       "    <tr>\n",
       "      <th>3</th>\n",
       "      <td>179 Broadway, Berlin</td>\n",
       "      <td>ID017078</td>\n",
       "      <td>20</td>\n",
       "      <td>21</td>\n",
       "      <td>25</td>\n",
       "      <td>Commercial</td>\n",
       "      <td>7759168</td>\n",
       "      <td>266</td>\n",
       "      <td>9</td>\n",
       "      <td>Berlin</td>\n",
       "    </tr>\n",
       "    <tr>\n",
       "      <th>4</th>\n",
       "      <td>60 Broadway, Berlin</td>\n",
       "      <td>ID020426</td>\n",
       "      <td>20</td>\n",
       "      <td>9</td>\n",
       "      <td>27</td>\n",
       "      <td>Residential</td>\n",
       "      <td>8320308</td>\n",
       "      <td>288</td>\n",
       "      <td>5</td>\n",
       "      <td>Berlin</td>\n",
       "    </tr>\n",
       "  </tbody>\n",
       "</table>\n",
       "</div>"
      ],
      "text/plain": [
       "                address property_id  square_meters  total_floors  floor  \\\n",
       "0   250 High St, Berlin    ID012715             20            29     17   \n",
       "1   225 High St, Berlin    ID017686             20            17      1   \n",
       "2    29 High St, Berlin    ID015698             20            22      5   \n",
       "3  179 Broadway, Berlin    ID017078             20            21     25   \n",
       "4   60 Broadway, Berlin    ID020426             20             9     27   \n",
       "\n",
       "          type    price  days_on_market  rooms    city  \n",
       "0  Residential  2966921             115      1  Berlin  \n",
       "1  Residential  3259048             247      5  Berlin  \n",
       "2   Commercial  7071926             167      5  Berlin  \n",
       "3   Commercial  7759168             266      9  Berlin  \n",
       "4  Residential  8320308             288      5  Berlin  "
      ]
     },
     "execution_count": 6,
     "metadata": {},
     "output_type": "execute_result"
    }
   ],
   "source": [
    "ger_est = pd.read_csv('german_real_estate_data.csv')\n",
    "ger_est.info()\n",
    "ger_est.head()"
   ]
  },
  {
   "cell_type": "code",
   "execution_count": 9,
   "id": "85bf8f3b-8760-468c-98ff-a6a9dadf332d",
   "metadata": {},
   "outputs": [
    {
     "data": {
      "text/plain": [
       "array(['Residential', 'Commercial'], dtype=object)"
      ]
     },
     "execution_count": 9,
     "metadata": {},
     "output_type": "execute_result"
    }
   ],
   "source": [
    "ger_est['type'].unique()"
   ]
  },
  {
   "cell_type": "markdown",
   "id": "002d5cf5-1248-43a3-9aa2-22beddcb4b1f",
   "metadata": {},
   "source": [
    "Файл содержит данные о недвижимости в Германии с 25,613 записями и 10 столбцами. Вот основные столбцы:\n",
    "\n",
    "address: Адрес недвижимости.\n",
    "\n",
    "property_id: Идентификатор недвижимости.\n",
    "\n",
    "square_meters: Площадь в квадратных метрах.\n",
    "\n",
    "total_floors: Общее количество этажей в здании.\n",
    "\n",
    "floor: Этаж, на котором находится недвижимость.\n",
    "\n",
    "type: Тип недвижимости (Residential или Commercial).\n",
    "\n",
    "price: Цена недвижимости.\n",
    "\n",
    "days_on_market: Количество дней на рынке.\n",
    "\n",
    "rooms: Количество комнат.\n",
    "\n",
    "city: Город."
   ]
  },
  {
   "cell_type": "markdown",
   "id": "bd934c7e-0f32-4311-af45-8859776d5b1f",
   "metadata": {
    "jp-MarkdownHeadingCollapsed": true
   },
   "source": [
    "### Исследование недвижимости Германии"
   ]
  },
  {
   "cell_type": "markdown",
   "id": "7595d0cc-88d6-4418-8da3-7fce374d5206",
   "metadata": {},
   "source": [
    "Ниже сформулированы целевые исследования по рынку недвижимости Германии \n",
    "\n",
    "1 Анализ цен на недвижимость: Средняя цена за квадратный метр по городам. Сравнение цен на коммерческую и жилую недвижимость. Влияние количества этажей или комнат на цену.\n",
    "\n",
    "2 Анализ времени нахождения на рынке: Исследование средней продолжительности продажи недвижимости в зависимости от типа, города и других характеристик. Влияние цены на количество дней на рынке.\n",
    "\n",
    "3 Географический анализ: Сравнение стоимости недвижимости между различными городами. Поиск зависимостей между локацией (адресом) и стоимостью.\n",
    "\n"
   ]
  },
  {
   "cell_type": "markdown",
   "id": "9d06a12f-18be-454e-9116-7932badb2d58",
   "metadata": {
    "jp-MarkdownHeadingCollapsed": true
   },
   "source": [
    "#### 1 Анализ цен на недвижимость"
   ]
  },
  {
   "cell_type": "code",
   "execution_count": 72,
   "id": "3452ebb7-af7d-4918-9abf-a5c596ee599e",
   "metadata": {},
   "outputs": [
    {
     "data": {
      "text/plain": [
       "city\n",
       "Dortmund      35897.679200\n",
       "Hamburg       35381.540470\n",
       "Frankfurt     35173.673783\n",
       "Cologne       34534.409536\n",
       "Stuttgart     34161.264777\n",
       "Berlin        34150.988514\n",
       "Leipzig       34085.164736\n",
       "Essen         33840.400245\n",
       "Munich        33658.770241\n",
       "Düsseldorf    33433.036184\n",
       "Name: price_per_sqm, dtype: float64"
      ]
     },
     "execution_count": 72,
     "metadata": {},
     "output_type": "execute_result"
    }
   ],
   "source": [
    "ger_est['price_per_sqm'] = ger_est['price'] / ger_est['square_meters']\n",
    "avg_city = ger_est.groupby('city')['price_per_sqm'].mean().sort_values(ascending=False)\n",
    "avg_city"
   ]
  },
  {
   "cell_type": "code",
   "execution_count": 54,
   "id": "7a28309e-af8e-4d99-8f6b-d8771e09e5c7",
   "metadata": {},
   "outputs": [
    {
     "data": {
      "text/plain": [
       "type\n",
       "Commercial     34784.820162\n",
       "Residential    34082.249541\n",
       "Name: price_per_sqm, dtype: float64"
      ]
     },
     "execution_count": 54,
     "metadata": {},
     "output_type": "execute_result"
    }
   ],
   "source": [
    "avg_type = ger_est.groupby('type')['price_per_sqm'].mean()\n",
    "avg_type"
   ]
  },
  {
   "cell_type": "code",
   "execution_count": 56,
   "id": "6d4956ca-9d0a-439d-a244-f5d1a4b12e36",
   "metadata": {},
   "outputs": [
    {
     "data": {
      "text/plain": [
       "(total_floors\n",
       " 1     35021.080618\n",
       " 2     35691.942538\n",
       " 3     32894.369680\n",
       " 4     32247.495627\n",
       " 5     35383.852570\n",
       " 6     32591.993096\n",
       " 7     35775.214070\n",
       " 8     35630.746895\n",
       " 9     33840.595978\n",
       " 10    34435.250302\n",
       " 11    35677.821621\n",
       " 12    32848.929492\n",
       " 13    33990.950996\n",
       " 14    37199.027762\n",
       " 15    35623.573292\n",
       " 16    34374.324176\n",
       " 17    34459.831669\n",
       " 18    33329.578571\n",
       " 19    33199.497621\n",
       " 20    30099.649125\n",
       " 21    35045.878506\n",
       " 22    36420.832412\n",
       " 23    33895.365364\n",
       " 24    36572.198901\n",
       " 25    34444.235329\n",
       " 26    35506.448014\n",
       " 27    33376.394059\n",
       " 28    35218.898934\n",
       " 29    34254.616861\n",
       " Name: price_per_sqm, dtype: float64,\n",
       " rooms\n",
       " 1    34591.946372\n",
       " 2    34177.756296\n",
       " 3    32641.547755\n",
       " 4    34577.751828\n",
       " 5    33447.268983\n",
       " 6    36536.423581\n",
       " 7    33767.643297\n",
       " 8    35244.113701\n",
       " 9    34881.335259\n",
       " Name: price_per_sqm, dtype: float64)"
      ]
     },
     "execution_count": 56,
     "metadata": {},
     "output_type": "execute_result"
    }
   ],
   "source": [
    "avg_floors = ger_est.groupby('total_floors')['price_per_sqm'].mean()\n",
    "avg_rooms = ger_est.groupby('rooms')['price_per_sqm'].mean()\n",
    "\n",
    "avg_floors, avg_rooms"
   ]
  },
  {
   "cell_type": "markdown",
   "id": "131de42a-d258-4772-9354-4b9ef67649d0",
   "metadata": {},
   "source": [
    "Средняя цена за квадратный метр по городам:\n",
    "Наиболее дорогие города (средняя цена за квадратный метр):\n",
    "Dortmund: ~35,897 €/м²\n",
    "Hamburg: ~35,381 €/м²\n",
    "Frankfurt: ~35,174 €/м²\n",
    "Наименее дорогие города:\n",
    "Düsseldorf: ~33,433 €/м²\n",
    "Munich: ~33,659 €/м²\n",
    "\n",
    "Сравнение цен на коммерческую и жилую недвижимость:\n",
    "Коммерческая недвижимость: ~34,785 €/м²\n",
    "Жилая недвижимость: ~34,082 €/м²\n",
    "Коммерческая недвижимость в среднем немного дороже жилой.\n",
    "\n",
    "Влияние количества этажей на цену:\n",
    "Средняя цена за квадратный метр варьируется в зависимости от общего количества этажей в здании. Например:\n",
    "1 этаж: ~35,021 €/м²\n",
    "14 этажей: ~37,199 €/м² (максимальное значение)\n",
    "20 этажей: ~30,099 €/м² (минимальное значение)\n",
    "\n",
    "Влияние количества комнат на цену:\n",
    "Средняя цена за квадратный метр в зависимости от количества комнат:\n",
    "1 комната: ~34,592 €/м²\n",
    "6 комнат: ~36,536 €/м² (максимальное значение)\n",
    "3 комнаты: ~32,641 €/м² (минимальное значение)"
   ]
  },
  {
   "cell_type": "markdown",
   "id": "00d96fa9-270f-4270-9176-202b8a1d4410",
   "metadata": {
    "jp-MarkdownHeadingCollapsed": true
   },
   "source": [
    "#### 2 Анализ времени нахождения на рынке"
   ]
  },
  {
   "cell_type": "code",
   "execution_count": 57,
   "id": "a34d9859-3ffe-4102-92d6-4ce3864a6c29",
   "metadata": {},
   "outputs": [
    {
     "name": "stdout",
     "output_type": "stream",
     "text": [
      "Среднее количество дней на рынке для недвижимости в зависимости от type\n",
      "Commercial     182.332343\n",
      "Residential    181.687797\n",
      "Name: days_on_market, dtype: float64 \n",
      " Среднее количество дней на рынке для недвижимости в зависимости от city\n",
      "Frankfurt     183.704981\n",
      "Berlin        183.596957\n",
      "Cologne       182.770760\n",
      "Düsseldorf    182.554335\n",
      "Hamburg       182.241248\n",
      "Essen         181.811873\n",
      "Dortmund      181.655547\n",
      "Munich        181.410246\n",
      "Stuttgart     180.235986\n",
      "Leipzig       180.088540\n",
      "Name: days_on_market, dtype: float64\n"
     ]
    }
   ],
   "source": [
    "avg_days_type = ger_est.groupby('type')['days_on_market'].mean()\n",
    "avg_days_city = ger_est.groupby('city')['days_on_market'].mean().sort_values(ascending=False)\n",
    "print('Среднее количество дней на рынке для недвижимости в зависимости от',avg_days_type,\n",
    "'\\n','Среднее количество дней на рынке для недвижимости в зависимости от', avg_days_city)"
   ]
  },
  {
   "cell_type": "code",
   "execution_count": 58,
   "id": "5c74dd9c-acc1-4efd-ac44-fd72674089be",
   "metadata": {},
   "outputs": [
    {
     "data": {
      "text/plain": [
       "0.009578899552588303"
      ]
     },
     "execution_count": 58,
     "metadata": {},
     "output_type": "execute_result"
    }
   ],
   "source": [
    "corr_days = ger_est['price'].corr(ger_est['days_on_market'])\n",
    "corr_days"
   ]
  },
  {
   "cell_type": "markdown",
   "id": "cb683ad5-f70d-4b15-9c9b-722bac7cde61",
   "metadata": {},
   "source": [
    "Среднее количество дней на рынке для недвижимости разного типа:\n",
    "Коммерческая недвижимость: в среднем 182 дня.\n",
    "Жилая недвижимость: в среднем 181 день.\n",
    "Время нахождения на рынке для обоих типов недвижимости примерно одинаково.\n",
    "\n",
    "Среднее количество дней на рынке по городам:\n",
    "Город с самым долгим средним временем на рынке:\n",
    "Frankfurt: ~184 дня.\n",
    "Город с самым коротким временем на рынке:\n",
    "Leipzig: ~180 дней.\n",
    "Влияние цены на количество дней на рынке:\n",
    "\n",
    "Корреляция между ценой и количеством дней на рынке составляет 0.0096, что указывает на очень слабую положительную корреляцию. Это означает, что цена практически не влияет на количество дней на рынке."
   ]
  },
  {
   "cell_type": "markdown",
   "id": "8a2a85f4-80bd-4e52-854f-c8bcf1566680",
   "metadata": {
    "jp-MarkdownHeadingCollapsed": true
   },
   "source": [
    "#### 3 Географический анализ"
   ]
  },
  {
   "cell_type": "code",
   "execution_count": 66,
   "id": "25cbe4c0-f661-40fb-8988-d56abdd525ba",
   "metadata": {},
   "outputs": [
    {
     "data": {
      "text/plain": [
       "city\n",
       "Leipzig       5.108872e+06\n",
       "Hamburg       5.077305e+06\n",
       "Dortmund      5.075284e+06\n",
       "Stuttgart     5.071732e+06\n",
       "Düsseldorf    5.070984e+06\n",
       "Cologne       5.051072e+06\n",
       "Berlin        5.045404e+06\n",
       "Frankfurt     5.014324e+06\n",
       "Essen         4.996852e+06\n",
       "Munich        4.984504e+06\n",
       "Name: price, dtype: float64"
      ]
     },
     "execution_count": 66,
     "metadata": {},
     "output_type": "execute_result"
    }
   ],
   "source": [
    "average_city = ger_est.groupby('city')['price'].mean().sort_values(ascending=False)\n",
    "average_city"
   ]
  },
  {
   "cell_type": "code",
   "execution_count": 68,
   "id": "3a83868c-2309-4944-9763-a2f36ac21a37",
   "metadata": {},
   "outputs": [
    {
     "data": {
      "text/plain": [
       "street\n",
       "161 Park Ave    6.790178e+06\n",
       "83 Broadway     6.761824e+06\n",
       "40 Broadway     6.701696e+06\n",
       "160 Broadway    6.626970e+06\n",
       "227 High St     6.613109e+06\n",
       "                    ...     \n",
       "164 High St     3.408272e+06\n",
       "20 Park Ave     3.386043e+06\n",
       "79 Park Ave     3.354149e+06\n",
       "59 Main St      3.130725e+06\n",
       "184 Broadway    2.984306e+06\n",
       "Name: price, Length: 1200, dtype: float64"
      ]
     },
     "execution_count": 68,
     "metadata": {},
     "output_type": "execute_result"
    }
   ],
   "source": [
    "ger_est['street'] = ger_est['address'].apply(lambda x: x.split(',')[0].strip())\n",
    "average_street = ger_est.groupby('street')['price'].mean().sort_values(ascending=False)\n",
    "average_street"
   ]
  },
  {
   "cell_type": "markdown",
   "id": "8997e1c6-b4e7-469d-94ef-99c7e5591ac4",
   "metadata": {},
   "source": [
    " Средняя стоимость недвижимости по городам:\n",
    "(Leipzig) имеет самую высокую среднюю стоимость недвижимости (около 5.11 млн евро).\n",
    "(Hamburg) и (Dortmund) также находятся среди городов с высокой средней стоимостью (около 5.07 млн евро).\n",
    "(Munich), известный как один из самых дорогих городов Германии, оказывается в конце списка, что может указывать на разные типы недвижимости или специфику выборки.\n",
    "\n",
    "Средняя стоимость недвижимости по улицам:\n",
    "Улица 161 Park Ave имеет самую высокую среднюю стоимость недвижимости (около 6.79 млн евро).\n",
    "Несколько улиц на Бродвее (например, 83 Broadway, 40 Broadway) также отличаются высокой средней стоимостью недвижимости (более 6.7 млн евро).\n",
    "Разница в средней цене между самыми дорогими и менее дорогими улицами значительна. Например, 184 Broadway имеет среднюю стоимость в районе 2.98 млн евро, что гораздо ниже по сравнению с лидерами.\n",
    "\n",
    "Общие выводы:\n",
    "Разброс цен между городами относительно небольшой, все города находятся примерно в одном диапазоне (около 5 млн евро). Это может указывать на схожую ценовую политику или специфику предложений в этих городах.\n",
    "Разброс цен по улицам гораздо более значителен. Улицы, такие как Park Ave и Broadway, выделяются более высокой стоимостью, что, вероятно, связано с их престижностью или расположением в центральных частях городов."
   ]
  },
  {
   "cell_type": "markdown",
   "id": "9de2e179-1135-4b84-8843-bd01a1dc1ef1",
   "metadata": {
    "jp-MarkdownHeadingCollapsed": true
   },
   "source": [
    "### Вывод "
   ]
  },
  {
   "cell_type": "markdown",
   "id": "34951bcc-edaa-4eb9-aedf-9abd8d4d3160",
   "metadata": {},
   "source": [
    "Эти результаты могут быть полезны для дальнейшего анализа рынка недвижимости, например, при оценке инвестиционной привлекательности разных районов и улиц."
   ]
  },
  {
   "cell_type": "code",
   "execution_count": null,
   "id": "fe2e7c7f-5a59-4d0c-ad66-e8dbb97dd363",
   "metadata": {},
   "outputs": [],
   "source": []
  }
 ],
 "metadata": {
  "kernelspec": {
   "display_name": "Python 3 (ipykernel)",
   "language": "python",
   "name": "python3"
  },
  "language_info": {
   "codemirror_mode": {
    "name": "ipython",
    "version": 3
   },
   "file_extension": ".py",
   "mimetype": "text/x-python",
   "name": "python",
   "nbconvert_exporter": "python",
   "pygments_lexer": "ipython3",
   "version": "3.11.7"
  }
 },
 "nbformat": 4,
 "nbformat_minor": 5
}
